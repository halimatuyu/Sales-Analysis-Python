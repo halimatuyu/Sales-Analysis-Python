{
 "cells": [
  {
   "cell_type": "code",
   "execution_count": 1,
   "id": "a740c6ac",
   "metadata": {},
   "outputs": [],
   "source": [
    "import pandas"
   ]
  },
  {
   "cell_type": "code",
   "execution_count": 2,
   "id": "dc4572c1",
   "metadata": {},
   "outputs": [],
   "source": [
    "data=pandas.read_csv(r'C:\\Users\\user\\Desktop\\data2.csv')"
   ]
  },
  {
   "cell_type": "code",
   "execution_count": 3,
   "id": "7c7fdb78",
   "metadata": {},
   "outputs": [
    {
     "data": {
      "text/plain": [
       "Index(['employee', 'gender', 'salary', 'department', 'country'], dtype='object')"
      ]
     },
     "execution_count": 3,
     "metadata": {},
     "output_type": "execute_result"
    }
   ],
   "source": [
    "data.columns"
   ]
  },
  {
   "cell_type": "code",
   "execution_count": 4,
   "id": "78da2fcb",
   "metadata": {},
   "outputs": [
    {
     "data": {
      "text/plain": [
       "99000"
      ]
     },
     "execution_count": 4,
     "metadata": {},
     "output_type": "execute_result"
    }
   ],
   "source": [
    "data['salary'].max()"
   ]
  },
  {
   "cell_type": "code",
   "execution_count": 5,
   "id": "9e955a03",
   "metadata": {},
   "outputs": [
    {
     "data": {
      "text/plain": [
       "32000"
      ]
     },
     "execution_count": 5,
     "metadata": {},
     "output_type": "execute_result"
    }
   ],
   "source": [
    "data['salary'].min()"
   ]
  },
  {
   "cell_type": "code",
   "execution_count": 6,
   "id": "c4232cbb",
   "metadata": {},
   "outputs": [
    {
     "data": {
      "text/html": [
       "<div>\n",
       "<style scoped>\n",
       "    .dataframe tbody tr th:only-of-type {\n",
       "        vertical-align: middle;\n",
       "    }\n",
       "\n",
       "    .dataframe tbody tr th {\n",
       "        vertical-align: top;\n",
       "    }\n",
       "\n",
       "    .dataframe thead th {\n",
       "        text-align: right;\n",
       "    }\n",
       "</style>\n",
       "<table border=\"1\" class=\"dataframe\">\n",
       "  <thead>\n",
       "    <tr style=\"text-align: right;\">\n",
       "      <th></th>\n",
       "      <th>employee</th>\n",
       "      <th>gender</th>\n",
       "      <th>salary</th>\n",
       "      <th>department</th>\n",
       "      <th>country</th>\n",
       "    </tr>\n",
       "  </thead>\n",
       "  <tbody>\n",
       "    <tr>\n",
       "      <th>0</th>\n",
       "      <td>James Steve</td>\n",
       "      <td>Male</td>\n",
       "      <td>40000</td>\n",
       "      <td>Finance</td>\n",
       "      <td>Nigeria</td>\n",
       "    </tr>\n",
       "    <tr>\n",
       "      <th>3</th>\n",
       "      <td>Isah Mohd</td>\n",
       "      <td>Male</td>\n",
       "      <td>54000</td>\n",
       "      <td>Legal</td>\n",
       "      <td>Nigeria</td>\n",
       "    </tr>\n",
       "    <tr>\n",
       "      <th>4</th>\n",
       "      <td>Dapo Abiodun</td>\n",
       "      <td>Male</td>\n",
       "      <td>72000</td>\n",
       "      <td>IT</td>\n",
       "      <td>Nigeria</td>\n",
       "    </tr>\n",
       "    <tr>\n",
       "      <th>11</th>\n",
       "      <td>Andy Mary</td>\n",
       "      <td>Female</td>\n",
       "      <td>48000</td>\n",
       "      <td>HR</td>\n",
       "      <td>Nigeria</td>\n",
       "    </tr>\n",
       "    <tr>\n",
       "      <th>12</th>\n",
       "      <td>Beauty Paul</td>\n",
       "      <td>Female</td>\n",
       "      <td>35000</td>\n",
       "      <td>HR</td>\n",
       "      <td>Nigeria</td>\n",
       "    </tr>\n",
       "  </tbody>\n",
       "</table>\n",
       "</div>"
      ],
      "text/plain": [
       "        employee  gender  salary department  country\n",
       "0    James Steve    Male   40000    Finance  Nigeria\n",
       "3      Isah Mohd    Male   54000      Legal  Nigeria\n",
       "4   Dapo Abiodun    Male   72000         IT  Nigeria\n",
       "11     Andy Mary  Female   48000         HR  Nigeria\n",
       "12   Beauty Paul  Female   35000         HR  Nigeria"
      ]
     },
     "execution_count": 6,
     "metadata": {},
     "output_type": "execute_result"
    }
   ],
   "source": [
    "data[data['country'].isin(['Nigeria'])]"
   ]
  },
  {
   "cell_type": "code",
   "execution_count": 7,
   "id": "e23a148d",
   "metadata": {},
   "outputs": [
    {
     "data": {
      "text/html": [
       "<div>\n",
       "<style scoped>\n",
       "    .dataframe tbody tr th:only-of-type {\n",
       "        vertical-align: middle;\n",
       "    }\n",
       "\n",
       "    .dataframe tbody tr th {\n",
       "        vertical-align: top;\n",
       "    }\n",
       "\n",
       "    .dataframe thead th {\n",
       "        text-align: right;\n",
       "    }\n",
       "</style>\n",
       "<table border=\"1\" class=\"dataframe\">\n",
       "  <thead>\n",
       "    <tr style=\"text-align: right;\">\n",
       "      <th></th>\n",
       "      <th>employee</th>\n",
       "      <th>gender</th>\n",
       "      <th>salary</th>\n",
       "      <th>department</th>\n",
       "      <th>country</th>\n",
       "    </tr>\n",
       "  </thead>\n",
       "  <tbody>\n",
       "    <tr>\n",
       "      <th>4</th>\n",
       "      <td>Dapo Abiodun</td>\n",
       "      <td>Male</td>\n",
       "      <td>72000</td>\n",
       "      <td>IT</td>\n",
       "      <td>Nigeria</td>\n",
       "    </tr>\n",
       "    <tr>\n",
       "      <th>5</th>\n",
       "      <td>Nay Hascet</td>\n",
       "      <td>Male</td>\n",
       "      <td>62000</td>\n",
       "      <td>IT</td>\n",
       "      <td>Rwanda</td>\n",
       "    </tr>\n",
       "    <tr>\n",
       "      <th>8</th>\n",
       "      <td>Salahu Stan</td>\n",
       "      <td>Male</td>\n",
       "      <td>60000</td>\n",
       "      <td>IT</td>\n",
       "      <td>Uganda</td>\n",
       "    </tr>\n",
       "    <tr>\n",
       "      <th>9</th>\n",
       "      <td>Alexander Tshide</td>\n",
       "      <td>Male</td>\n",
       "      <td>99000</td>\n",
       "      <td>IT</td>\n",
       "      <td>South Africa</td>\n",
       "    </tr>\n",
       "    <tr>\n",
       "      <th>11</th>\n",
       "      <td>Andy Mary</td>\n",
       "      <td>Female</td>\n",
       "      <td>48000</td>\n",
       "      <td>HR</td>\n",
       "      <td>Nigeria</td>\n",
       "    </tr>\n",
       "    <tr>\n",
       "      <th>12</th>\n",
       "      <td>Beauty Paul</td>\n",
       "      <td>Female</td>\n",
       "      <td>35000</td>\n",
       "      <td>HR</td>\n",
       "      <td>Nigeria</td>\n",
       "    </tr>\n",
       "  </tbody>\n",
       "</table>\n",
       "</div>"
      ],
      "text/plain": [
       "            employee  gender  salary department       country\n",
       "4       Dapo Abiodun    Male   72000         IT       Nigeria\n",
       "5         Nay Hascet    Male   62000         IT        Rwanda\n",
       "8        Salahu Stan    Male   60000         IT        Uganda\n",
       "9   Alexander Tshide    Male   99000         IT  South Africa\n",
       "11         Andy Mary  Female   48000         HR       Nigeria\n",
       "12       Beauty Paul  Female   35000         HR       Nigeria"
      ]
     },
     "execution_count": 7,
     "metadata": {},
     "output_type": "execute_result"
    }
   ],
   "source": [
    "data[data['department'].isin(['HR','IT'])]"
   ]
  },
  {
   "cell_type": "code",
   "execution_count": 8,
   "id": "8cee4e6d",
   "metadata": {},
   "outputs": [
    {
     "data": {
      "text/html": [
       "<div>\n",
       "<style scoped>\n",
       "    .dataframe tbody tr th:only-of-type {\n",
       "        vertical-align: middle;\n",
       "    }\n",
       "\n",
       "    .dataframe tbody tr th {\n",
       "        vertical-align: top;\n",
       "    }\n",
       "\n",
       "    .dataframe thead th {\n",
       "        text-align: right;\n",
       "    }\n",
       "</style>\n",
       "<table border=\"1\" class=\"dataframe\">\n",
       "  <thead>\n",
       "    <tr style=\"text-align: right;\">\n",
       "      <th></th>\n",
       "      <th>employee</th>\n",
       "      <th>gender</th>\n",
       "      <th>salary</th>\n",
       "      <th>department</th>\n",
       "      <th>country</th>\n",
       "    </tr>\n",
       "  </thead>\n",
       "  <tbody>\n",
       "    <tr>\n",
       "      <th>4</th>\n",
       "      <td>Dapo Abiodun</td>\n",
       "      <td>Male</td>\n",
       "      <td>72000</td>\n",
       "      <td>IT</td>\n",
       "      <td>Nigeria</td>\n",
       "    </tr>\n",
       "    <tr>\n",
       "      <th>11</th>\n",
       "      <td>Andy Mary</td>\n",
       "      <td>Female</td>\n",
       "      <td>48000</td>\n",
       "      <td>HR</td>\n",
       "      <td>Nigeria</td>\n",
       "    </tr>\n",
       "    <tr>\n",
       "      <th>12</th>\n",
       "      <td>Beauty Paul</td>\n",
       "      <td>Female</td>\n",
       "      <td>35000</td>\n",
       "      <td>HR</td>\n",
       "      <td>Nigeria</td>\n",
       "    </tr>\n",
       "  </tbody>\n",
       "</table>\n",
       "</div>"
      ],
      "text/plain": [
       "        employee  gender  salary department  country\n",
       "4   Dapo Abiodun    Male   72000         IT  Nigeria\n",
       "11     Andy Mary  Female   48000         HR  Nigeria\n",
       "12   Beauty Paul  Female   35000         HR  Nigeria"
      ]
     },
     "execution_count": 8,
     "metadata": {},
     "output_type": "execute_result"
    }
   ],
   "source": [
    "data[data['department'].isin(['HR','IT'])&data['country'].isin(['Nigeria'])]"
   ]
  },
  {
   "cell_type": "code",
   "execution_count": 9,
   "id": "bc04d07c",
   "metadata": {},
   "outputs": [
    {
     "data": {
      "text/html": [
       "<div>\n",
       "<style scoped>\n",
       "    .dataframe tbody tr th:only-of-type {\n",
       "        vertical-align: middle;\n",
       "    }\n",
       "\n",
       "    .dataframe tbody tr th {\n",
       "        vertical-align: top;\n",
       "    }\n",
       "\n",
       "    .dataframe thead th {\n",
       "        text-align: right;\n",
       "    }\n",
       "</style>\n",
       "<table border=\"1\" class=\"dataframe\">\n",
       "  <thead>\n",
       "    <tr style=\"text-align: right;\">\n",
       "      <th></th>\n",
       "      <th>employee</th>\n",
       "      <th>gender</th>\n",
       "      <th>salary</th>\n",
       "      <th>department</th>\n",
       "      <th>country</th>\n",
       "    </tr>\n",
       "  </thead>\n",
       "  <tbody>\n",
       "    <tr>\n",
       "      <th>2</th>\n",
       "      <td>Mike T</td>\n",
       "      <td>Male</td>\n",
       "      <td>45000</td>\n",
       "      <td>Legal</td>\n",
       "      <td>Ghana</td>\n",
       "    </tr>\n",
       "    <tr>\n",
       "      <th>3</th>\n",
       "      <td>Isah Mohd</td>\n",
       "      <td>Male</td>\n",
       "      <td>54000</td>\n",
       "      <td>Legal</td>\n",
       "      <td>Nigeria</td>\n",
       "    </tr>\n",
       "    <tr>\n",
       "      <th>4</th>\n",
       "      <td>Dapo Abiodun</td>\n",
       "      <td>Male</td>\n",
       "      <td>72000</td>\n",
       "      <td>IT</td>\n",
       "      <td>Nigeria</td>\n",
       "    </tr>\n",
       "    <tr>\n",
       "      <th>5</th>\n",
       "      <td>Nay Hascet</td>\n",
       "      <td>Male</td>\n",
       "      <td>62000</td>\n",
       "      <td>IT</td>\n",
       "      <td>Rwanda</td>\n",
       "    </tr>\n",
       "    <tr>\n",
       "      <th>6</th>\n",
       "      <td>Zizerex Mbupo</td>\n",
       "      <td>Male</td>\n",
       "      <td>92000</td>\n",
       "      <td>Marketing</td>\n",
       "      <td>Tanzania</td>\n",
       "    </tr>\n",
       "    <tr>\n",
       "      <th>7</th>\n",
       "      <td>Fir Victor</td>\n",
       "      <td>Male</td>\n",
       "      <td>55000</td>\n",
       "      <td>Administration</td>\n",
       "      <td>Kenya</td>\n",
       "    </tr>\n",
       "    <tr>\n",
       "      <th>8</th>\n",
       "      <td>Salahu Stan</td>\n",
       "      <td>Male</td>\n",
       "      <td>60000</td>\n",
       "      <td>IT</td>\n",
       "      <td>Uganda</td>\n",
       "    </tr>\n",
       "    <tr>\n",
       "      <th>9</th>\n",
       "      <td>Alexander Tshide</td>\n",
       "      <td>Male</td>\n",
       "      <td>99000</td>\n",
       "      <td>IT</td>\n",
       "      <td>South Africa</td>\n",
       "    </tr>\n",
       "    <tr>\n",
       "      <th>11</th>\n",
       "      <td>Andy Mary</td>\n",
       "      <td>Female</td>\n",
       "      <td>48000</td>\n",
       "      <td>HR</td>\n",
       "      <td>Nigeria</td>\n",
       "    </tr>\n",
       "  </tbody>\n",
       "</table>\n",
       "</div>"
      ],
      "text/plain": [
       "            employee  gender  salary      department       country\n",
       "2             Mike T    Male   45000           Legal         Ghana\n",
       "3          Isah Mohd    Male   54000           Legal       Nigeria\n",
       "4       Dapo Abiodun    Male   72000              IT       Nigeria\n",
       "5         Nay Hascet    Male   62000              IT        Rwanda\n",
       "6      Zizerex Mbupo    Male   92000       Marketing      Tanzania\n",
       "7         Fir Victor    Male   55000  Administration         Kenya\n",
       "8        Salahu Stan    Male   60000              IT        Uganda\n",
       "9   Alexander Tshide    Male   99000              IT  South Africa\n",
       "11         Andy Mary  Female   48000              HR       Nigeria"
      ]
     },
     "execution_count": 9,
     "metadata": {},
     "output_type": "execute_result"
    }
   ],
   "source": [
    "data[data['salary']>40000]"
   ]
  },
  {
   "cell_type": "code",
   "execution_count": 10,
   "id": "b34b9a1f",
   "metadata": {},
   "outputs": [
    {
     "data": {
      "text/html": [
       "<div>\n",
       "<style scoped>\n",
       "    .dataframe tbody tr th:only-of-type {\n",
       "        vertical-align: middle;\n",
       "    }\n",
       "\n",
       "    .dataframe tbody tr th {\n",
       "        vertical-align: top;\n",
       "    }\n",
       "\n",
       "    .dataframe thead th {\n",
       "        text-align: right;\n",
       "    }\n",
       "</style>\n",
       "<table border=\"1\" class=\"dataframe\">\n",
       "  <thead>\n",
       "    <tr style=\"text-align: right;\">\n",
       "      <th></th>\n",
       "      <th>employee</th>\n",
       "      <th>gender</th>\n",
       "      <th>salary</th>\n",
       "      <th>department</th>\n",
       "      <th>country</th>\n",
       "    </tr>\n",
       "  </thead>\n",
       "  <tbody>\n",
       "    <tr>\n",
       "      <th>4</th>\n",
       "      <td>Dapo Abiodun</td>\n",
       "      <td>Male</td>\n",
       "      <td>72000</td>\n",
       "      <td>IT</td>\n",
       "      <td>Nigeria</td>\n",
       "    </tr>\n",
       "    <tr>\n",
       "      <th>11</th>\n",
       "      <td>Andy Mary</td>\n",
       "      <td>Female</td>\n",
       "      <td>48000</td>\n",
       "      <td>HR</td>\n",
       "      <td>Nigeria</td>\n",
       "    </tr>\n",
       "    <tr>\n",
       "      <th>12</th>\n",
       "      <td>Beauty Paul</td>\n",
       "      <td>Female</td>\n",
       "      <td>35000</td>\n",
       "      <td>HR</td>\n",
       "      <td>Nigeria</td>\n",
       "    </tr>\n",
       "  </tbody>\n",
       "</table>\n",
       "</div>"
      ],
      "text/plain": [
       "        employee  gender  salary department  country\n",
       "4   Dapo Abiodun    Male   72000         IT  Nigeria\n",
       "11     Andy Mary  Female   48000         HR  Nigeria\n",
       "12   Beauty Paul  Female   35000         HR  Nigeria"
      ]
     },
     "execution_count": 10,
     "metadata": {},
     "output_type": "execute_result"
    }
   ],
   "source": [
    "data[data['department'].isin(['HR','IT'])&data['country'].isin(['Nigeria'])]"
   ]
  },
  {
   "cell_type": "code",
   "execution_count": 11,
   "id": "042072a2",
   "metadata": {},
   "outputs": [],
   "source": [
    "diff=data[data['department'].isin(['HR','IT'])&data['country'].isin(['Nigeria'])]"
   ]
  },
  {
   "cell_type": "code",
   "execution_count": 12,
   "id": "25ec050e",
   "metadata": {},
   "outputs": [
    {
     "data": {
      "text/html": [
       "<div>\n",
       "<style scoped>\n",
       "    .dataframe tbody tr th:only-of-type {\n",
       "        vertical-align: middle;\n",
       "    }\n",
       "\n",
       "    .dataframe tbody tr th {\n",
       "        vertical-align: top;\n",
       "    }\n",
       "\n",
       "    .dataframe thead th {\n",
       "        text-align: right;\n",
       "    }\n",
       "</style>\n",
       "<table border=\"1\" class=\"dataframe\">\n",
       "  <thead>\n",
       "    <tr style=\"text-align: right;\">\n",
       "      <th></th>\n",
       "      <th>employee</th>\n",
       "      <th>gender</th>\n",
       "      <th>salary</th>\n",
       "      <th>department</th>\n",
       "      <th>country</th>\n",
       "    </tr>\n",
       "  </thead>\n",
       "  <tbody>\n",
       "    <tr>\n",
       "      <th>4</th>\n",
       "      <td>Dapo Abiodun</td>\n",
       "      <td>Male</td>\n",
       "      <td>72000</td>\n",
       "      <td>IT</td>\n",
       "      <td>Nigeria</td>\n",
       "    </tr>\n",
       "    <tr>\n",
       "      <th>11</th>\n",
       "      <td>Andy Mary</td>\n",
       "      <td>Female</td>\n",
       "      <td>48000</td>\n",
       "      <td>HR</td>\n",
       "      <td>Nigeria</td>\n",
       "    </tr>\n",
       "  </tbody>\n",
       "</table>\n",
       "</div>"
      ],
      "text/plain": [
       "        employee  gender  salary department  country\n",
       "4   Dapo Abiodun    Male   72000         IT  Nigeria\n",
       "11     Andy Mary  Female   48000         HR  Nigeria"
      ]
     },
     "execution_count": 12,
     "metadata": {},
     "output_type": "execute_result"
    }
   ],
   "source": [
    "diff.loc[diff['salary']>40000]"
   ]
  },
  {
   "cell_type": "markdown",
   "id": "e3fb7d9c",
   "metadata": {},
   "source": [
    "# Grouping of Department"
   ]
  },
  {
   "cell_type": "code",
   "execution_count": 14,
   "id": "35e637b1",
   "metadata": {},
   "outputs": [
    {
     "data": {
      "text/html": [
       "<div>\n",
       "<style scoped>\n",
       "    .dataframe tbody tr th:only-of-type {\n",
       "        vertical-align: middle;\n",
       "    }\n",
       "\n",
       "    .dataframe tbody tr th {\n",
       "        vertical-align: top;\n",
       "    }\n",
       "\n",
       "    .dataframe thead th {\n",
       "        text-align: right;\n",
       "    }\n",
       "</style>\n",
       "<table border=\"1\" class=\"dataframe\">\n",
       "  <thead>\n",
       "    <tr style=\"text-align: right;\">\n",
       "      <th></th>\n",
       "      <th>employee</th>\n",
       "      <th>gender</th>\n",
       "      <th>salary</th>\n",
       "      <th>country</th>\n",
       "    </tr>\n",
       "    <tr>\n",
       "      <th>department</th>\n",
       "      <th></th>\n",
       "      <th></th>\n",
       "      <th></th>\n",
       "      <th></th>\n",
       "    </tr>\n",
       "  </thead>\n",
       "  <tbody>\n",
       "    <tr>\n",
       "      <th>Administration</th>\n",
       "      <td>1</td>\n",
       "      <td>1</td>\n",
       "      <td>1</td>\n",
       "      <td>1</td>\n",
       "    </tr>\n",
       "    <tr>\n",
       "      <th>Finance</th>\n",
       "      <td>2</td>\n",
       "      <td>2</td>\n",
       "      <td>2</td>\n",
       "      <td>2</td>\n",
       "    </tr>\n",
       "    <tr>\n",
       "      <th>HR</th>\n",
       "      <td>2</td>\n",
       "      <td>2</td>\n",
       "      <td>2</td>\n",
       "      <td>2</td>\n",
       "    </tr>\n",
       "    <tr>\n",
       "      <th>IT</th>\n",
       "      <td>4</td>\n",
       "      <td>4</td>\n",
       "      <td>4</td>\n",
       "      <td>4</td>\n",
       "    </tr>\n",
       "    <tr>\n",
       "      <th>Legal</th>\n",
       "      <td>2</td>\n",
       "      <td>2</td>\n",
       "      <td>2</td>\n",
       "      <td>2</td>\n",
       "    </tr>\n",
       "    <tr>\n",
       "      <th>Marketing</th>\n",
       "      <td>1</td>\n",
       "      <td>1</td>\n",
       "      <td>1</td>\n",
       "      <td>1</td>\n",
       "    </tr>\n",
       "    <tr>\n",
       "      <th>Security</th>\n",
       "      <td>1</td>\n",
       "      <td>1</td>\n",
       "      <td>1</td>\n",
       "      <td>1</td>\n",
       "    </tr>\n",
       "  </tbody>\n",
       "</table>\n",
       "</div>"
      ],
      "text/plain": [
       "                employee  gender  salary  country\n",
       "department                                       \n",
       "Administration         1       1       1        1\n",
       "Finance                2       2       2        2\n",
       "HR                     2       2       2        2\n",
       "IT                     4       4       4        4\n",
       "Legal                  2       2       2        2\n",
       "Marketing              1       1       1        1\n",
       "Security               1       1       1        1"
      ]
     },
     "execution_count": 14,
     "metadata": {},
     "output_type": "execute_result"
    }
   ],
   "source": [
    "data.groupby(['department']).count()"
   ]
  },
  {
   "cell_type": "markdown",
   "id": "304cb463",
   "metadata": {},
   "source": [
    "# Coverting Dept to Dict"
   ]
  },
  {
   "cell_type": "code",
   "execution_count": 15,
   "id": "b156be67",
   "metadata": {},
   "outputs": [],
   "source": [
    "department=data.groupby(['department']).size()"
   ]
  },
  {
   "cell_type": "code",
   "execution_count": 16,
   "id": "fca950fe",
   "metadata": {},
   "outputs": [
    {
     "data": {
      "text/plain": [
       "{'Administration': 1,\n",
       " 'Finance': 2,\n",
       " 'HR': 2,\n",
       " 'IT': 4,\n",
       " 'Legal': 2,\n",
       " 'Marketing': 1,\n",
       " 'Security': 1}"
      ]
     },
     "execution_count": 16,
     "metadata": {},
     "output_type": "execute_result"
    }
   ],
   "source": [
    "department.to_dict()"
   ]
  },
  {
   "cell_type": "code",
   "execution_count": 17,
   "id": "319a2a16",
   "metadata": {},
   "outputs": [],
   "source": [
    "department_graph=department.to_dict()"
   ]
  },
  {
   "cell_type": "code",
   "execution_count": 18,
   "id": "7e109693",
   "metadata": {},
   "outputs": [
    {
     "data": {
      "text/plain": [
       "dict_keys(['Administration', 'Finance', 'HR', 'IT', 'Legal', 'Marketing', 'Security'])"
      ]
     },
     "execution_count": 18,
     "metadata": {},
     "output_type": "execute_result"
    }
   ],
   "source": [
    "department_graph.keys()"
   ]
  },
  {
   "cell_type": "code",
   "execution_count": 19,
   "id": "d911e082",
   "metadata": {},
   "outputs": [
    {
     "data": {
      "text/plain": [
       "dict_values([1, 2, 2, 4, 2, 1, 1])"
      ]
     },
     "execution_count": 19,
     "metadata": {},
     "output_type": "execute_result"
    }
   ],
   "source": [
    "department_graph.values()"
   ]
  },
  {
   "cell_type": "markdown",
   "id": "f577b25b",
   "metadata": {},
   "source": [
    "# Visualisation"
   ]
  },
  {
   "cell_type": "code",
   "execution_count": 20,
   "id": "5614c5b7",
   "metadata": {},
   "outputs": [],
   "source": [
    "import matplotlib.pyplot as plt"
   ]
  },
  {
   "cell_type": "code",
   "execution_count": 21,
   "id": "cbe19d12",
   "metadata": {},
   "outputs": [
    {
     "data": {
      "image/png": "[encoded data removed]",
      "text/plain": [
       "<Figure size 640x480 with 1 Axes>"
      ]
     },
     "metadata": {},
     "output_type": "display_data"
    }
   ],
   "source": [
    "Colours=['red','blue','yellow','pink','green','orange','purple']\n",
    "fig=plt.figure()\n",
    "ax=fig.add_axes([0,0,1,1])\n",
    "Departments=department_graph.keys()\n",
    "Employees=department_graph.values()\n",
    "ax.bar(Departments, Employees,color=Colours)\n",
    "plt.show()"
   ]
  },
  {
   "cell_type": "code",
   "execution_count": 23,
   "id": "daac464c",
   "metadata": {},
   "outputs": [
    {
     "data": {
      "image/png": "[encoded data removed]",
      "text/plain": [
       "<Figure size 640x480 with 1 Axes>"
      ]
     },
     "metadata": {},
     "output_type": "display_data"
    }
   ],
   "source": [
    "plt.pie(Employees,labels=Departments)\n",
    "plt.show()"
   ]
  },
  {
   "cell_type": "code",
   "execution_count": null,
   "id": "8a272dfe",
   "metadata": {},
   "outputs": [],
   "source": []
  }
 ],
 "metadata": {
  "kernelspec": {
   "display_name": "Python 3 (ipykernel)",
   "language": "python",
   "name": "python3"
  },
  "language_info": {
   "codemirror_mode": {
    "name": "ipython",
    "version": 3
   },
   "file_extension": ".py",
   "mimetype": "text/x-python",
   "name": "python",
   "nbconvert_exporter": "python",
   "pygments_lexer": "ipython3",
   "version": "3.10.9"
  }
 },
 "nbformat": 4,
 "nbformat_minor": 5
}
